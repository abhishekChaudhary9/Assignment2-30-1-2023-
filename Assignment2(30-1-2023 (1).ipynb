{
 "cells": [
  {
   "cell_type": "markdown",
   "id": "218bf384-7465-4721-ac40-b1c9037e1a82",
   "metadata": {},
   "source": [
    "ABHISHEK CHAUDHARY"
   ]
  },
  {
   "cell_type": "raw",
   "id": "ad06e28c-3a3a-4590-86e9-c5f2b3836f61",
   "metadata": {},
   "source": [
    "1. Write a Program to accept percentage from the user and display the grade according to the folowing crireria:\n",
    "\n",
    "marks              grade\n",
    ">90                  A\n",
    ">80 and <=90         B\n",
    "<=60 and <=80        C\n",
    "below 60             D"
   ]
  },
  {
   "cell_type": "raw",
   "id": "ac435dfa-d353-4805-b1c8-0716c00aa7b3",
   "metadata": {},
   "source": [
    "user= float(input(\"Enter marks \"))\n",
    "if user>90:\n",
    "    print(\"A\")\n",
    "elif user >80 and user <=90:\n",
    "    print(\"B\")\n",
    "elif user>=60 and user<=80:\n",
    "    print(\"C\")\n",
    "else: print(\"D\")\n"
   ]
  },
  {
   "cell_type": "raw",
   "id": "cd081443-db28-416d-9aa6-53a350988f37",
   "metadata": {},
   "source": [
    "2. Write a program to accept the cost price of a bike and display the road tax to be paid according to the following criteria:\n",
    "Tax            Cost Price(in ₹)\n",
    "15%               >100000\n",
    "10%               >50000 and <=100000\n",
    "5%                <=50000"
   ]
  },
  {
   "cell_type": "raw",
   "id": "467e8ac7-0033-474a-81d6-696de30c3b83",
   "metadata": {},
   "source": [
    "user= int(input(\"Enter cost price of your bike \"))\n",
    "if user>100000:\n",
    "    print(f\"Tax to be paid is ₹ {user*.15}\")\n",
    "elif user>50000 and user <=100000:\n",
    "    print(f\"Tax to be paid is ₹ {user*.1}\")\n",
    "else: print(f\"Tax to be paid is ₹ {user*.05}\")"
   ]
  },
  {
   "cell_type": "raw",
   "id": "bec6984c-bf1d-48b3-8f62-8cc3eb62911f",
   "metadata": {},
   "source": [
    "3. Accept any city from the user and display monuments of that city.\n",
    "City             Monument\n",
    "Delhi            Red Fort\n",
    "Agra             Taj Mahal\n",
    "Jaipur           Jal Mahal"
   ]
  },
  {
   "cell_type": "raw",
   "id": "91752e22-caae-471f-afd3-af7509762a19",
   "metadata": {},
   "source": [
    "user = input(\"Enter any  city (Delhi,Agra,Jaipur)\");\n",
    "dict= {\"Delhi\":\"Red Fort\",\"Agra\":\"Taj Mahal\", \"Jaipur\":\"Jal Mahal\"}\n",
    "print(f\"The monument in {user} is {dict[user]}\")"
   ]
  },
  {
   "cell_type": "raw",
   "id": "cd066bd0-6ccd-4a44-bb7f-7c50e3a82cc5",
   "metadata": {},
   "source": [
    "4. Check how many times a given number can be divided by 3 before it is less than or equal to 10"
   ]
  },
  {
   "cell_type": "raw",
   "id": "bfd2e860-a4d1-4427-9e67-5da859b599b6",
   "metadata": {},
   "source": [
    "user=int(input(\"Enter a number \"))\n",
    "a=user\n",
    "count=0\n",
    "\n",
    "while(user>11):\n",
    "    b= user/3\n",
    "    user=b\n",
    "    count+=1\n",
    "print(f\"The number of times {a} can be divided by 3 before it is <=10 is {count}\")"
   ]
  },
  {
   "cell_type": "raw",
   "id": "821afebf-68ca-49fa-9c65-86b0c4e4eff6",
   "metadata": {},
   "source": [
    "5. Why and when to use while loop in Python Give detailed description with examples.\n"
   ]
  },
  {
   "cell_type": "raw",
   "id": "3fc0e597-2c3d-405c-bb23-bf43287ae24a",
   "metadata": {},
   "source": [
    "When we dont know in  advance that how much times we want to iterate(loop) a coded block(sequence of statements), then in this case we use while loop. A while loop is like a non-govt(private) job in which we don't know how much time we will spend there."
   ]
  },
  {
   "cell_type": "raw",
   "id": "4fae1938-5df6-4c10-b94d-7a51f6b9265e",
   "metadata": {},
   "source": [
    "6. Use nested while loop to print 3 different pattern"
   ]
  },
  {
   "cell_type": "code",
   "execution_count": 17,
   "id": "b91460b0-18ad-42f4-9a65-f96012ed8ace",
   "metadata": {},
   "outputs": [
    {
     "name": "stdout",
     "output_type": "stream",
     "text": [
      "1 \n",
      "1 2 \n",
      "1 2 3 \n",
      "1 2 3 4 \n",
      "1 2 3 4 5 \n"
     ]
    }
   ],
   "source": [
    "#pattern1\n",
    "i=1\n",
    "while i<=5:\n",
    "    j=1\n",
    "    while j<=i:\n",
    "        print(j,end=\" \")\n",
    "        j=j+1\n",
    "    print(\"\")\n",
    "    i=i+1"
   ]
  },
  {
   "cell_type": "code",
   "execution_count": 18,
   "id": "b7bf6f3b-7b02-4581-9518-b761b77d51d8",
   "metadata": {},
   "outputs": [
    {
     "name": "stdout",
     "output_type": "stream",
     "text": [
      "* $$$$$\n",
      "* $$$$$\n",
      "* $$$$$\n",
      "* $$$$$\n",
      "* $$$$$\n",
      "* $$$$$\n",
      "* $$$$$\n",
      "* $$$$$\n",
      "* $$$$$\n",
      "* $$$$$\n"
     ]
    }
   ],
   "source": [
    "#pattern2\n",
    "i=1;j=1\n",
    "while i<=10:\n",
    "    while j<=10:\n",
    "        print(\"*\",\"$\"*5)\n",
    "        j+=1\n",
    "    i+=1"
   ]
  },
  {
   "cell_type": "code",
   "execution_count": 22,
   "id": "455cf0c4",
   "metadata": {},
   "outputs": [
    {
     "name": "stdout",
     "output_type": "stream",
     "text": [
      ".\n",
      "1 *\n",
      ".\n",
      "2 4 *\n",
      ".\n",
      "3 9 27 *\n",
      ".\n",
      "4 16 64 256 *\n",
      ".\n",
      "5 25 125 625 3125 *\n"
     ]
    }
   ],
   "source": [
    "#pattern3\n",
    "i=1\n",
    "while i<=5:\n",
    "    print(\".\")\n",
    "    j=1\n",
    "    while j<=i:\n",
    "        print(i**j,end=\" \")\n",
    "        j=j+1\n",
    "    print(\"*\")\n",
    "    i=i+1"
   ]
  },
  {
   "cell_type": "raw",
   "id": "7671e052",
   "metadata": {},
   "source": [
    "7. Reverse a while loop to display numbers from 10 to 1"
   ]
  },
  {
   "cell_type": "code",
   "execution_count": 23,
   "id": "540795f1",
   "metadata": {},
   "outputs": [
    {
     "name": "stdout",
     "output_type": "stream",
     "text": [
      "10\n",
      "9\n",
      "8\n",
      "7\n",
      "6\n",
      "5\n",
      "4\n",
      "3\n",
      "2\n",
      "1\n"
     ]
    }
   ],
   "source": [
    "i=10\n",
    "while i>=1:\n",
    "    print(i)\n",
    "    i-=1\n",
    "    "
   ]
  },
  {
   "cell_type": "raw",
   "id": "c0cef95c",
   "metadata": {},
   "source": [
    "8. Reverse a while/for loop to display numbers from 10 to 1"
   ]
  },
  {
   "cell_type": "code",
   "execution_count": 26,
   "id": "6cb6fff7",
   "metadata": {},
   "outputs": [
    {
     "name": "stdout",
     "output_type": "stream",
     "text": [
      "10\n",
      "9\n",
      "8\n",
      "7\n",
      "6\n",
      "5\n",
      "4\n",
      "3\n",
      "2\n",
      "1\n"
     ]
    }
   ],
   "source": [
    "for i in range(10,0,-1):print(i)"
   ]
  },
  {
   "cell_type": "code",
   "execution_count": null,
   "id": "118ec3c3",
   "metadata": {},
   "outputs": [],
   "source": []
  }
 ],
 "metadata": {
  "kernelspec": {
   "display_name": "Python 3",
   "language": "python",
   "name": "python3"
  },
  "language_info": {
   "codemirror_mode": {
    "name": "ipython",
    "version": 3
   },
   "file_extension": ".py",
   "mimetype": "text/x-python",
   "name": "python",
   "nbconvert_exporter": "python",
   "pygments_lexer": "ipython3",
   "version": "3.9.5"
  }
 },
 "nbformat": 4,
 "nbformat_minor": 5
}
